{
  "nbformat": 4,
  "nbformat_minor": 0,
  "metadata": {
    "colab": {
      "provenance": [],
      "mount_file_id": "1V2vDeJIAhPdIPvzFr0MUrJSp6b3QIHvL",
      "authorship_tag": "ABX9TyOzAelQuLoR4hRoa2F2fNVA",
      "include_colab_link": true
    },
    "kernelspec": {
      "name": "python3",
      "display_name": "Python 3"
    },
    "language_info": {
      "name": "python"
    },
    "accelerator": "TPU",
    "gpuClass": "standard"
  },
  "cells": [
    {
      "cell_type": "markdown",
      "metadata": {
        "id": "view-in-github",
        "colab_type": "text"
      },
      "source": [
        "<a href=\"https://colab.research.google.com/github/SantiagoAlvarezb/Thesis/blob/main/Data_cleaning.ipynb\" target=\"_parent\"><img src=\"https://colab.research.google.com/assets/colab-badge.svg\" alt=\"Open In Colab\"/></a>"
      ]
    },
    {
      "cell_type": "markdown",
      "source": [
        "# Imports"
      ],
      "metadata": {
        "id": "SXM-iny7FsXH"
      }
    },
    {
      "cell_type": "code",
      "execution_count": null,
      "metadata": {
        "colab": {
          "base_uri": "https://localhost:8080/"
        },
        "id": "yjpK0-9_FPJy",
        "outputId": "e4c00fee-3d5b-4970-e5d1-604bd7786454"
      },
      "outputs": [
        {
          "output_type": "stream",
          "name": "stdout",
          "text": [
            "Drive already mounted at /content/drive; to attempt to forcibly remount, call drive.mount(\"/content/drive\", force_remount=True).\n"
          ]
        }
      ],
      "source": [
        "from google.colab import drive\n",
        "drive.mount('/content/drive')"
      ]
    },
    {
      "cell_type": "code",
      "source": [
        "#For visualization and data manipulation\n",
        "import matplotlib.pyplot as plt\n",
        "import matplotlib.patches as patches\n",
        "import numpy as np\n",
        "import pandas as pd\n",
        "from matplotlib.animation import FuncAnimation\n",
        "from IPython import display\n",
        "import os\n",
        "import random\n",
        "import tensorflow as tf\n",
        "import tensorboard\n",
        "import torch.optim as optim\n",
        "from torch import nn\n",
        "import plotly.express as px"
      ],
      "metadata": {
        "id": "khVMRJQmGWPg"
      },
      "execution_count": null,
      "outputs": []
    },
    {
      "cell_type": "markdown",
      "source": [
        "# Import Data"
      ],
      "metadata": {
        "id": "rrRWkFeFGMHI"
      }
    },
    {
      "cell_type": "markdown",
      "source": [
        "We import the needed datasets from kaggle. This includes the dataset corresponding to the play data as well as the three seasons of tracking data."
      ],
      "metadata": {
        "id": "dhfGlHGKMLip"
      }
    },
    {
      "cell_type": "code",
      "execution_count": null,
      "metadata": {
        "id": "Gvegfrx1GbhE"
      },
      "outputs": [],
      "source": [
        "#Define the path for each excel document that contains data\n",
        "plays_path = '/content/drive/MyDrive/Enhancing Performance in Special Teams within the NFL through Reinforcement Learning: A Data-Driven Approach/nfl-big-data-bowl-2022/plays.csv'\n",
        "tracking_2018_path  = '/content/drive/MyDrive/Enhancing Performance in Special Teams within the NFL through Reinforcement Learning: A Data-Driven Approach/nfl-big-data-bowl-2022/tracking2018.csv'\n",
        "tracking_2019_path  = '/content/drive/MyDrive/Enhancing Performance in Special Teams within the NFL through Reinforcement Learning: A Data-Driven Approach/nfl-big-data-bowl-2022/tracking2019.csv'\n",
        "tracking_2020_path  = '/content/drive/MyDrive/Enhancing Performance in Special Teams within the NFL through Reinforcement Learning: A Data-Driven Approach/nfl-big-data-bowl-2022/tracking2020.csv'"
      ]
    },
    {
      "cell_type": "code",
      "execution_count": null,
      "metadata": {
        "id": "vq89yQtjIFoz"
      },
      "outputs": [],
      "source": [
        "#Import plays\n",
        "plays = pd.read_csv(plays_path)\n",
        "\n",
        "#Import tracking datasets\n",
        "tracking_2018 = pd.read_csv(tracking_2018_path)\n",
        "tracking_2019 = pd.read_csv(tracking_2019_path)\n",
        "tracking_2020 = pd.read_csv(tracking_2020_path)"
      ]
    },
    {
      "cell_type": "markdown",
      "source": [
        "# Data Cleaning"
      ],
      "metadata": {
        "id": "26AQUO5HHWUn"
      }
    },
    {
      "cell_type": "markdown",
      "source": [
        "First we look at the event distribution of our wanted plays."
      ],
      "metadata": {
        "id": "_894CxLgaWxi"
      }
    },
    {
      "cell_type": "code",
      "source": [
        "import plotly.graph_objects as go\n",
        "\n",
        "# Define the colors for the bars\n",
        "colors = {\n",
        "    '2018': 'rgb(162, 9, 165)',  # Red\n",
        "    '2019': 'rgb(236, 75, 39)',  # Green\n",
        "    '2020': 'rgb(247, 164, 26)'   # Blue\n",
        "}\n",
        "\n",
        "# Filter the datasets for specific events\n",
        "events = ['punt', 'kickoff']\n",
        "tracking_datasets = [tracking_2018, tracking_2019, tracking_2020]\n",
        "seasons = ['2018', '2019', '2020']\n",
        "\n",
        "fig = go.Figure()\n",
        "\n",
        "for i, season in enumerate(seasons):\n",
        "    # Filter the dataset for the current season and selected events\n",
        "    filtered_data = tracking_datasets[i][tracking_datasets[i]['event'].isin(events)]\n",
        "\n",
        "    event_counts = filtered_data['event'].value_counts()\n",
        "    fig.add_trace(go.Bar(\n",
        "        x=event_counts.index,\n",
        "        y=event_counts.values,\n",
        "        name=season,\n",
        "        marker=dict(color=colors[season])  # Set the color for the current season\n",
        "    ))\n",
        "\n",
        "fig.update_layout(\n",
        "    title='Event Frequency by Season',\n",
        "    xaxis_title='Event',\n",
        "    yaxis_title='Frequency',\n",
        "    barmode='group',\n",
        "    bargap=0.2,  # Adjust the gap between bars within the same group\n",
        "    bargroupgap=0.4  # Adjust the gap between bar groups\n",
        ")\n",
        "\n",
        "fig.show()\n"
      ],
      "metadata": {
        "id": "7SEJKdTwzwb4"
      },
      "execution_count": null,
      "outputs": []
    },
    {
      "cell_type": "markdown",
      "source": [
        "In this section we will focus on the datacleaning of the datasets. The process is as follows: since the tracking data is centered about the play data, the latter will be cleaned to take into account only plays whih matter to the study, meaning punts and kickoffs that are returned."
      ],
      "metadata": {
        "id": "apEYYKXOI1EY"
      }
    },
    {
      "cell_type": "code",
      "source": [
        "#Filter out only Punts and Kickoffs which are returned\n",
        "kickoffs_punts = [\"Kickoff\", \"Punt\"]\n",
        "returns = [\"Return\"]\n",
        "plays = plays.loc[plays['specialTeamsPlayType'].isin(kickoffs_punts)]\n",
        "plays = plays.loc[plays['specialTeamsResult'].isin(returns)]\n",
        "\n",
        "#Drop uncesesarry columns\n",
        "plays.drop(['yardsToGo','kickerId', 'returnerId', 'kickBlockerId', 'yardlineSide','yardlineNumber', 'penaltyJerseyNumbers','penaltyYards', 'passResult', 'preSnapHomeScore', 'preSnapVisitorScore'], axis=1, inplace=True)\n",
        "\n",
        "#Identify penalties\n",
        "penalty_values = plays[\"penaltyCodes\"].unique()\n",
        "index = [1]\n",
        "penalties = np.delete(penalty_values, index)\n",
        "\n",
        "#Eliminate observations with penalties\n",
        "plays = plays[plays.penaltyCodes.isin(penalties) == False]\n",
        "\n",
        "#Eliminate columns\n",
        "plays.drop([\"penaltyCodes\"], axis=1, inplace=True)\n",
        "\n",
        "#Eliminate null values\n",
        "plays.dropna(subset=['kickReturnYardage'], inplace=True)\n",
        "\n",
        "#Take out onside kicks\n",
        "onside_kicks = [(2018090903, 4162), (2018091601, 4214), (2018091700, 4233), (2018092303, 3993), (2018100400, 4630), (2018100706, 3861), (2018100708, 3388), (2018100709, 3866), (2018100710, 4640), (2018101406, 4443), (2018102100, 3461), (2018102101, 4147), (2018102200, 4160), (2018102500, 3136), (2018102805, 4119), (2018102806, 4252), (2018110401, 4373), (2018110405, 3539), (2018110408, 3916), (2018111100, 3841), (2018111110, 3192), (2018111802, 4588), (2018111803, 3993), (2018111805, 3972), (2018112201, 4254), (2018112202, 4080), (2018112501, 4757), (2018120202, 4188), (2018120204, 4105), (2018120210, 4744), (2018120903, 4536), (2018121000, 3920), (2018122306, 4140), (2018122308, 4209), (2018123013, 36), (2019090800, 4512), (2019090802, 3292), (2019090802, 3847), (2019091504, 3954), (2019092206, 3536), (2019100610, 4149), (2019100612, 4473), (2019101305, 4223), (2019101310, 4192), (2019101311, 3498), (2019102001, 4109), (2019102002, 2335), (2019102002, 4765), (2019102700, 3814), (2019110302, 4056), (2019110304, 4382), (2019111702, 2281), (2019112400, 4654), (2019112408, 3699), (2019112411, 4247), (2019112801, 4086), (2019120106, 2243), (2019120106, 4291), (2019120111, 3957), (2019120500, 4801), (2019120800, 3719), (2019120802, 4377), (2019120803, 3768), (2019120805, 4054), (2019121200, 3229), (2019121500, 3721), (2019121507, 3855), (2019121509, 4220), (2019122201, 3707), (2019122901, 4382), (2020091000, 3649), (2020091302, 4574), (2020091310, 4253), (2020091400, 3765), (2020091700, 4638), (2020092003, 3697), (2020092004, 2175), (2020092004, 4266), (2020092008, 3994), (2020092704, 4048), (2020100401, 4415), (2020100402, 4288), (2020100406, 3880), (2020100409, 3742), (2020100412, 4022), (2020101100, 4061), (2020101802, 3709), (2020101803, 3806), (2020101803, 4096), (2020101805, 4535), (2020102509, 3421), (2020110100, 2624), (2020110109, 3822), (2020110109, 4412), (2020110200, 4374), (2020110800, 3988), (2020110800, 4321), (2020110803, 4079), (2020110804, 4196), (2020110806, 4166), (2020111507, 3876), (2020111509, 4198), (2020111512, 3726), (2020112205, 250), (2020112903, 4350), (2020112911, 3867), (2020120607, 4318), (2020120607, 4668), (2020120608, 4566), (2020120700, 4251), (2020120702, 2370), (2020120800, 3611), (2020121305, 4406), (2020121900, 4262), (2020122004, 3506), (2020122013, 4543), (2020122500, 4187), (2020122602, 3928), (2020122710, 4234), (2021010300, 4494), (2021010304, 3985), (2021010315, 4182)]\n",
        "for i in onside_kicks:\n",
        "  plays=plays[~((plays['gameId'] == i[0]) & (plays['playId'] == i[1]))]\n",
        "\n",
        "#Pairs\n",
        "pairs = list(zip(plays['gameId'],plays['playId']))"
      ],
      "metadata": {
        "id": "O1Y0teSeHZ_5"
      },
      "execution_count": null,
      "outputs": []
    },
    {
      "cell_type": "markdown",
      "source": [
        "For the datasets that contain the tracking data we are going to filter out such that only the plays that are present in the previous dataset appear."
      ],
      "metadata": {
        "id": "QkWLkXsCJDQD"
      }
    },
    {
      "cell_type": "code",
      "source": [
        "# Extract the game IDs and play IDs from the pairs\n",
        "game_ids = [pair[0] for pair in pairs]\n",
        "play_ids = [pair[1] for pair in pairs]"
      ],
      "metadata": {
        "id": "X4Az8TsAUaDX"
      },
      "execution_count": null,
      "outputs": []
    },
    {
      "cell_type": "code",
      "source": [
        "tracking_2018 = tracking_2018[tracking_2018['gameId'].isin(game_ids) & tracking_2018['playId'].isin(play_ids)]\n",
        "tracking_2019 = tracking_2019[tracking_2019['gameId'].isin(game_ids) & tracking_2019['playId'].isin(play_ids)]\n",
        "tracking_2020 = tracking_2020[tracking_2020['gameId'].isin(game_ids) & tracking_2020['playId'].isin(play_ids)]"
      ],
      "metadata": {
        "id": "Z5Cyqx8pUtwe"
      },
      "execution_count": null,
      "outputs": []
    },
    {
      "cell_type": "code",
      "source": [
        "print(\"Shape of 2018 tracking dataframe:\", tracking_2018.shape)\n",
        "print(\"Shape of 2019 tracking dataframe:\", tracking_2019.shape)\n",
        "print(\"Shape of 2020 tracking dataframe:\", tracking_2020.shape)"
      ],
      "metadata": {
        "colab": {
          "base_uri": "https://localhost:8080/"
        },
        "id": "uAZXFrmHJCju",
        "outputId": "91e09f87-623b-416b-a673-3773972cf1b9"
      },
      "execution_count": null,
      "outputs": [
        {
          "output_type": "stream",
          "name": "stdout",
          "text": [
            "Shape of 2018 tracking dataframe: (9397432, 18)\n",
            "Shape of 2019 tracking dataframe: (8992977, 18)\n",
            "Shape of 2020 tracking dataframe: (8893295, 18)\n"
          ]
        }
      ]
    },
    {
      "cell_type": "code",
      "source": [
        "pairs_2018 = list(set(zip(tracking_2018['gameId'], tracking_2018['playId'])))\n",
        "pairs_2019 = list(set(zip(tracking_2019['gameId'], tracking_2019['playId'])))\n",
        "pairs_2020 = list(set(zip(tracking_2020['gameId'], tracking_2020['playId'])))"
      ],
      "metadata": {
        "id": "BD_kk5WTWHs4"
      },
      "execution_count": null,
      "outputs": []
    },
    {
      "cell_type": "code",
      "source": [
        "pairs = pairs_2018 + pairs_2019 + pairs_2020"
      ],
      "metadata": {
        "id": "1yjdqnn2XBeH"
      },
      "execution_count": null,
      "outputs": []
    },
    {
      "cell_type": "markdown",
      "source": [
        "Lastly, we once again generate the image to see the difference."
      ],
      "metadata": {
        "id": "6kg2k5NfagSG"
      }
    },
    {
      "cell_type": "code",
      "source": [
        "import plotly.graph_objects as go\n",
        "\n",
        "# Define the colors for the bars\n",
        "colors = {\n",
        "    '2018': 'rgb(162, 9, 165)',  # Red\n",
        "    '2019': 'rgb(236, 75, 39)',  # Green\n",
        "    '2020': 'rgb(247, 164, 26)'   # Blue\n",
        "}\n",
        "\n",
        "# Filter the datasets for specific events\n",
        "events = ['punt', 'kickoff']\n",
        "tracking_datasets = [tracking_2018, tracking_2019, tracking_2020]\n",
        "seasons = ['2018', '2019', '2020']\n",
        "\n",
        "fig = go.Figure()\n",
        "\n",
        "for i, season in enumerate(seasons):\n",
        "    # Filter the dataset for the current season and selected events\n",
        "    filtered_data = tracking_datasets[i][tracking_datasets[i]['event'].isin(events)]\n",
        "\n",
        "    event_counts = filtered_data['event'].value_counts()\n",
        "    fig.add_trace(go.Bar(\n",
        "        x=event_counts.index,\n",
        "        y=event_counts.values,\n",
        "        name=season,\n",
        "        marker=dict(color=colors[season])  # Set the color for the current season\n",
        "    ))\n",
        "\n",
        "fig.update_layout(\n",
        "    title='Event Frequency by Season',\n",
        "    xaxis_title='Event',\n",
        "    yaxis_title='Frequency',\n",
        "    barmode='group',\n",
        "    bargap=0.2,  # Adjust the gap between bars within the same group\n",
        "    bargroupgap=0.4  # Adjust the gap between bar groups\n",
        ")\n",
        "\n",
        "fig.show()\n"
      ],
      "metadata": {
        "id": "fo2KvIcoAcWz"
      },
      "execution_count": null,
      "outputs": []
    },
    {
      "cell_type": "markdown",
      "source": [
        "# Save Clean Data"
      ],
      "metadata": {
        "id": "oDviBnnJYRes"
      }
    },
    {
      "cell_type": "code",
      "source": [
        "tracking_2018.to_csv(\"/content/drive/MyDrive/Enhancing Performance in Special Teams within the NFL through Reinforcement Learning: A Data-Driven Approach/clean-data-nfl-big-data-bowl-2020/tracking2018.csv\", index=False)\n",
        "tracking_2019.to_csv(\"/content/drive/MyDrive/Enhancing Performance in Special Teams within the NFL through Reinforcement Learning: A Data-Driven Approach/clean-data-nfl-big-data-bowl-2020/tracking2019.csv\", index=False)\n",
        "tracking_2020.to_csv(\"/content/drive/MyDrive/Enhancing Performance in Special Teams within the NFL through Reinforcement Learning: A Data-Driven Approach/clean-data-nfl-big-data-bowl-2020/tracking2020.csv\", index=False)"
      ],
      "metadata": {
        "id": "6j8We48DYVkH"
      },
      "execution_count": null,
      "outputs": []
    }
  ]
}